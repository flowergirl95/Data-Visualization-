{
 "cells": [
  {
   "cell_type": "markdown",
   "id": "bd6015bb-a5d5-4fb3-a61c-833466916207",
   "metadata": {},
   "source": [
    "Test Script"
   ]
  },
  {
   "cell_type": "markdown",
   "id": "9aeecbc7-be3a-4219-a01f-a15788900158",
   "metadata": {},
   "source": [
    "hola"
   ]
  },
  {
   "cell_type": "markdown",
   "id": "b1f4624d-b74c-401d-8941-8808e8fa4a69",
   "metadata": {},
   "source": [
    "como estas?"
   ]
  },
  {
   "cell_type": "code",
   "execution_count": null,
   "id": "3b8e4796-6786-4365-9c46-89cabe0f3652",
   "metadata": {},
   "outputs": [],
   "source": []
  }
 ],
 "metadata": {
  "kernelspec": {
   "display_name": "Python [conda env:base] *",
   "language": "python",
   "name": "conda-base-py"
  },
  "language_info": {
   "codemirror_mode": {
    "name": "ipython",
    "version": 3
   },
   "file_extension": ".py",
   "mimetype": "text/x-python",
   "name": "python",
   "nbconvert_exporter": "python",
   "pygments_lexer": "ipython3",
   "version": "3.12.7"
  }
 },
 "nbformat": 4,
 "nbformat_minor": 5
}
